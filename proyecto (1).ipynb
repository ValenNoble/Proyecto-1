{
  "nbformat": 4,
  "nbformat_minor": 0,
  "metadata": {
    "colab": {
      "provenance": []
    },
    "kernelspec": {
      "name": "python3",
      "display_name": "Python 3"
    },
    "language_info": {
      "name": "python"
    }
  },
  "cells": [
    {
      "cell_type": "code",
      "execution_count": 2,
      "metadata": {
        "colab": {
          "base_uri": "https://localhost:8080/"
        },
        "id": "JlMK1bUsW2XX",
        "outputId": "831e5392-8918-499e-9b1d-1d6f4c3b4b97"
      },
      "outputs": [
        {
          "output_type": "stream",
          "name": "stdout",
          "text": [
            "Cloning into 'Proyecto-1'...\n",
            "remote: Enumerating objects: 31, done.\u001b[K\n",
            "remote: Counting objects: 100% (31/31), done.\u001b[K\n",
            "remote: Compressing objects: 100% (21/21), done.\u001b[K\n",
            "remote: Total 31 (delta 14), reused 15 (delta 8), pack-reused 0\u001b[K\n",
            "Receiving objects: 100% (31/31), 146.15 KiB | 808.00 KiB/s, done.\n",
            "Resolving deltas: 100% (14/14), done.\n"
          ]
        }
      ],
      "source": [
        "!git clone https://github.com/ValenNoble/Proyecto-1.git"
      ]
    },
    {
      "cell_type": "code",
      "source": [
        "import re"
      ],
      "metadata": {
        "id": "xVHsJimHbWiz"
      },
      "execution_count": 3,
      "outputs": []
    },
    {
      "cell_type": "code",
      "source": [
        "primer = ('/content/Proyecto-1/data/baby1990.html')\n",
        "file = open(primer)\n",
        "text = file.read()\n",
        "\n",
        "match = re.findall ('>Popularity in (/d+)</h3!', text)\n",
        " #('Popularity in(/d+)</h', text)\n",
        "\n",
        "match"
      ],
      "metadata": {
        "colab": {
          "base_uri": "https://localhost:8080/"
        },
        "id": "78Mp3S_hpiIr",
        "outputId": "97bfcf01-36b2-467f-f48c-aed3299b7762"
      },
      "execution_count": 5,
      "outputs": [
        {
          "output_type": "execute_result",
          "data": {
            "text/plain": [
              "[]"
            ]
          },
          "metadata": {},
          "execution_count": 5
        }
      ]
    },
    {
      "cell_type": "code",
      "source": [
        "primer = ('/content/Proyecto-1/data/baby1990.html')\n",
        "file = open(primer)\n",
        "text = file.read()\n",
        "\n",
        "#Estrater nombres de niños y niñas\n",
        "match = re.findall ('<td>(.+)</td><td>(.+)</td><td>(.+)</td>', text)\n",
        "\n",
        "match\n",
        "\n",
        "nombres_dict = {}\n",
        "\n",
        "for ranking, nombre_masculino, nombre_femenino in match:\n",
        "    ranking = int(ranking)\n",
        "    nombres_dict.setdefault(nombre_masculino, ranking)\n",
        "    nombres_dict.setdefault(nombre_femenino, ranking)\n",
        "\n",
        "# Imprimir el diccionario\n",
        "for ranking, nombre in nombres_dict.items():\n",
        "    print(f'{ranking}: {nombre}')"
      ],
      "metadata": {
        "id": "_tygdrN0cY62"
      },
      "execution_count": null,
      "outputs": []
    },
    {
      "cell_type": "code",
      "source": [
        "# Crear una lista de nombres ordenados alfabéticamente\n",
        "nombres_ordenados = sorted(nombres_dict.keys())\n",
        "\n",
        "# Imprimir la lista de nombres ordenados\n",
        "for nombre in nombres_ordenados:\n",
        "    print(nombre)"
      ],
      "metadata": {
        "id": "K8XrYuyOIwQD"
      },
      "execution_count": null,
      "outputs": []
    }
  ]
}