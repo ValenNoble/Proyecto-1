{
  "nbformat": 4,
  "nbformat_minor": 0,
  "metadata": {
    "colab": {
      "provenance": [],
      "authorship_tag": "ABX9TyN1euhuAVDthBi2mTl5i4kT",
      "include_colab_link": true
    },
    "kernelspec": {
      "name": "python3",
      "display_name": "Python 3"
    },
    "language_info": {
      "name": "python"
    }
  },
  "cells": [
    {
      "cell_type": "markdown",
      "metadata": {
        "id": "view-in-github",
        "colab_type": "text"
      },
      "source": [
        "<a href=\"https://colab.research.google.com/github/ValenNoble/Proyecto-1/blob/main/proyecto_1_final.ipynb\" target=\"_parent\"><img src=\"https://colab.research.google.com/assets/colab-badge.svg\" alt=\"Open In Colab\"/></a>"
      ]
    },
    {
      "cell_type": "markdown",
      "source": [
        "#Proyecto de expresiones regulares con Python\n",
        "\n",
        "##Enunciado\n",
        "La Administración de Seguridad Social tiene ordenados por año los nombres más populares para los bebés nacidos ese año en EE.UU. En el directorio data tienes una copia de alguno de esos archivos.\n",
        "\n",
        "En lugar de tratar los nombres de niños y niñas por separado, los agruparemos por completo. En algunos años, un nombre aparece más de una vez en el código HTML, pero solo utilizaremos un número por nombre (el primero que aparezca).\n",
        "\n",
        "- Utilizando expresiones regulares debes encontrar el año, extraerlo y mostrarlo.\n",
        "\n",
        "- Extrae los nombres de niños y de niñas con el correspondiente número que ocupan en el ranking y muéstralos.\n",
        "\n",
        "- Guarda los nombres (individuales) y su ranking en un diccionario e imprímelos\n",
        "\n",
        "- Crea una lista con los nombres ordenados alfabéticamente y muéstrala.\n",
        "\n",
        "- Crea una lista con el siguiente formato y muéstrala:\n",
        "\n",
        "- El primer elemento debe contener un string con el \"año\",\n",
        "\n",
        "- Los siguientes elementos deben contener un string con el \"nombre y la posición del ranking\" ordenados en forma alfabética."
      ],
      "metadata": {
        "id": "HRaBqwgFwvrD"
      }
    },
    {
      "cell_type": "code",
      "execution_count": 1,
      "metadata": {
        "colab": {
          "base_uri": "https://localhost:8080/"
        },
        "id": "NxxHWNtbt7KO",
        "outputId": "376156b2-1091-4ac4-911a-0de77d94b576"
      },
      "outputs": [
        {
          "output_type": "stream",
          "name": "stdout",
          "text": [
            "Cloning into 'Proyecto-1'...\n",
            "remote: Enumerating objects: 56, done.\u001b[K\n",
            "remote: Counting objects: 100% (56/56), done.\u001b[K\n",
            "remote: Compressing objects: 100% (46/46), done.\u001b[K\n",
            "remote: Total 56 (delta 27), reused 15 (delta 8), pack-reused 0\u001b[K\n",
            "Receiving objects: 100% (56/56), 193.04 KiB | 1.25 MiB/s, done.\n",
            "Resolving deltas: 100% (27/27), done.\n"
          ]
        }
      ],
      "source": [
        "!git clone https://github.com/ValenNoble/Proyecto-1.git"
      ]
    },
    {
      "cell_type": "code",
      "source": [
        "import re"
      ],
      "metadata": {
        "id": "ZY629D8XuECt"
      },
      "execution_count": 2,
      "outputs": []
    },
    {
      "cell_type": "markdown",
      "source": [
        "> Año 1990"
      ],
      "metadata": {
        "id": "K7e3neYn1df5"
      }
    },
    {
      "cell_type": "code",
      "source": [
        "primer = ('/content/Proyecto-1/data/baby1990.html')\n",
        "file = open(primer)\n",
        "text = file.read()\n",
        "\n",
        "# Extraer el año\n",
        "fecha = re.findall('Popularity in (\\d+)</h3>', text)\n",
        "\n",
        "fecha"
      ],
      "metadata": {
        "id": "Dk_NseeNzD_j"
      },
      "execution_count": null,
      "outputs": []
    },
    {
      "cell_type": "code",
      "source": [
        "# Estrater nombres de niños y niñas\n",
        "match = re.findall ('<td>(.+)</td><td>(.+)</td><td>(.+)</td>', text)\n",
        "\n",
        "match"
      ],
      "metadata": {
        "id": "LFV54oLFzPR1"
      },
      "execution_count": null,
      "outputs": []
    },
    {
      "cell_type": "code",
      "source": [
        "# Crear diccionario con nombres individuales y su ranking\n",
        "nombres_dict = {}\n",
        "\n",
        "for ranking, nombre_masculino, nombre_femenino in match:\n",
        "    ranking = int(ranking)\n",
        "    nombres_dict.setdefault(nombre_masculino, ranking)\n",
        "    nombres_dict.setdefault(nombre_femenino, ranking)\n",
        "\n",
        "for ranking, nombre in nombres_dict.items():\n",
        "    print(f'{ranking}: {nombre}')"
      ],
      "metadata": {
        "id": "AdSQwfQK0Be2"
      },
      "execution_count": null,
      "outputs": []
    },
    {
      "cell_type": "code",
      "source": [
        "# Crear una lista de nombres ordenados alfabéticamente\n",
        "nombres_ordenados = sorted(nombres_dict.keys())\n",
        "\n",
        "for nombre in nombres_ordenados:\n",
        "  print(nombre)"
      ],
      "metadata": {
        "id": "B3TYaEu-0G_i"
      },
      "execution_count": null,
      "outputs": []
    },
    {
      "cell_type": "code",
      "source": [
        "# Crear la lista en el formato deseado\n",
        "lista_resultados = [fecha] + [f'{nombre} ({nombres_dict[nombre]})' for nombre in nombres_ordenados]\n",
        "\n",
        "print(lista_resultados)"
      ],
      "metadata": {
        "id": "Tx4_2Mr80NOI"
      },
      "execution_count": null,
      "outputs": []
    },
    {
      "cell_type": "markdown",
      "source": [
        "> Año 1992"
      ],
      "metadata": {
        "id": "lvsfVhdKyvfP"
      }
    },
    {
      "cell_type": "code",
      "source": [
        "primer = ('/content/Proyecto-1/data/baby1992.html')\n",
        "file = open(primer)\n",
        "text = file.read()\n",
        "\n",
        "# Extraer el año\n",
        "fecha = re.findall('Popularity in (\\d+)</h3>', text)\n",
        "\n",
        "fecha"
      ],
      "metadata": {
        "id": "xzXkvmsBzQwa"
      },
      "execution_count": null,
      "outputs": []
    },
    {
      "cell_type": "code",
      "source": [
        "# Estrater nombres de niños y niñas\n",
        "match = re.findall ('<td>(.+)</td><td>(.+)</td><td>(.+)</td>', text)\n",
        "\n",
        "match"
      ],
      "metadata": {
        "id": "iXhBdhI70eFT"
      },
      "execution_count": null,
      "outputs": []
    },
    {
      "cell_type": "code",
      "source": [
        "# Crear diccionario con nombres individuales y su ranking\n",
        "nombres_dict = {}\n",
        "\n",
        "for ranking, nombre_masculino, nombre_femenino in match:\n",
        "    ranking = int(ranking)\n",
        "    nombres_dict.setdefault(nombre_masculino, ranking)\n",
        "    nombres_dict.setdefault(nombre_femenino, ranking)\n",
        "\n",
        "for ranking, nombre in nombres_dict.items():\n",
        "    print(f'{ranking}: {nombre}')"
      ],
      "metadata": {
        "id": "C9PA1vB80jXw"
      },
      "execution_count": null,
      "outputs": []
    },
    {
      "cell_type": "code",
      "source": [
        "# Crear una lista de nombres ordenados alfabéticamente\n",
        "nombres_ordenados = sorted(nombres_dict.keys())\n",
        "\n",
        "for nombre in nombres_ordenados:\n",
        "  print(nombre)"
      ],
      "metadata": {
        "id": "JkbOkM-u0kQe"
      },
      "execution_count": null,
      "outputs": []
    },
    {
      "cell_type": "code",
      "source": [
        "# Crear la lista en el formato deseado\n",
        "lista_resultados = [fecha] + [f'{nombre} ({nombres_dict[nombre]})' for nombre in nombres_ordenados]\n",
        "\n",
        "print(lista_resultados)"
      ],
      "metadata": {
        "id": "l2o2D_5I0m8Y"
      },
      "execution_count": null,
      "outputs": []
    },
    {
      "cell_type": "markdown",
      "source": [
        "> Año 1994"
      ],
      "metadata": {
        "id": "_gFo-97o1knO"
      }
    },
    {
      "cell_type": "code",
      "source": [
        "primer = ('/content/Proyecto-1/data/baby1994.html')\n",
        "file = open(primer)\n",
        "text = file.read()\n",
        "\n",
        "# Extraer el año\n",
        "fecha = re.findall('Popularity in (\\d+)</h3>', text)\n",
        "\n",
        "fecha"
      ],
      "metadata": {
        "id": "4pc2uayh1guf"
      },
      "execution_count": null,
      "outputs": []
    },
    {
      "cell_type": "code",
      "source": [
        "# Estrater nombres de niños y niñas\n",
        "match = re.findall ('<td>(.+)</td><td>(.+)</td><td>(.+)</td>', text)\n",
        "\n",
        "match"
      ],
      "metadata": {
        "id": "cze8aF291uGp"
      },
      "execution_count": null,
      "outputs": []
    },
    {
      "cell_type": "code",
      "source": [
        "# Crear diccionario con nombres individuales y su ranking\n",
        "nombres_dict = {}\n",
        "\n",
        "for ranking, nombre_masculino, nombre_femenino in match:\n",
        "    ranking = int(ranking)\n",
        "    nombres_dict.setdefault(nombre_masculino, ranking)\n",
        "    nombres_dict.setdefault(nombre_femenino, ranking)\n",
        "\n",
        "for ranking, nombre in nombres_dict.items():\n",
        "    print(f'{ranking}: {nombre}')"
      ],
      "metadata": {
        "id": "LBJmwDBu1yX1"
      },
      "execution_count": null,
      "outputs": []
    },
    {
      "cell_type": "code",
      "source": [
        "# Crear una lista de nombres ordenados alfabéticamente\n",
        "nombres_ordenados = sorted(nombres_dict.keys())\n",
        "\n",
        "for nombre in nombres_ordenados:\n",
        "  print(nombre)"
      ],
      "metadata": {
        "id": "el-cdYpy11Mi"
      },
      "execution_count": null,
      "outputs": []
    },
    {
      "cell_type": "code",
      "source": [
        "# Crear la lista en el formato deseado\n",
        "lista_resultados = [fecha] + [f'{nombre} ({nombres_dict[nombre]})' for nombre in nombres_ordenados]\n",
        "\n",
        "print(lista_resultados)"
      ],
      "metadata": {
        "id": "QQAKz_t413eq"
      },
      "execution_count": null,
      "outputs": []
    },
    {
      "cell_type": "markdown",
      "source": [
        "> Año 1996"
      ],
      "metadata": {
        "id": "HHNzP4Pt4VU3"
      }
    },
    {
      "cell_type": "code",
      "source": [
        "primer = ('/content/Proyecto-1/data/baby1996.html')\n",
        "file = open(primer)\n",
        "text = file.read()\n",
        "\n",
        "# Extraer el año\n",
        "fecha = re.findall('Popularity in (\\d+)</h3>', text)\n",
        "\n",
        "fecha"
      ],
      "metadata": {
        "id": "BKv0rBzV4eGx"
      },
      "execution_count": null,
      "outputs": []
    },
    {
      "cell_type": "code",
      "source": [
        "# Estrater nombres de niños y niñas\n",
        "match = re.findall ('<td>(.+)</td><td>(.+)</td><td>(.+)</td>', text)\n",
        "\n",
        "match"
      ],
      "metadata": {
        "id": "DE0q-i-C4fOf"
      },
      "execution_count": null,
      "outputs": []
    },
    {
      "cell_type": "code",
      "source": [
        "# Crear diccionario con nombres individuales y su ranking\n",
        "nombres_dict = {}\n",
        "\n",
        "for ranking, nombre_masculino, nombre_femenino in match:\n",
        "    ranking = int(ranking)\n",
        "    nombres_dict.setdefault(nombre_masculino, ranking)\n",
        "    nombres_dict.setdefault(nombre_femenino, ranking)\n",
        "\n",
        "for ranking, nombre in nombres_dict.items():\n",
        "    print(f'{ranking}: {nombre}')\n"
      ],
      "metadata": {
        "id": "CnWFQ2O-4m-_"
      },
      "execution_count": null,
      "outputs": []
    },
    {
      "cell_type": "code",
      "source": [
        "# Crear una lista de nombres ordenados alfabéticamente\n",
        "nombres_ordenados = sorted(nombres_dict.keys())\n",
        "\n",
        "for nombre in nombres_ordenados:\n",
        "  print(nombre)"
      ],
      "metadata": {
        "id": "Vg4GmV0Y4qGo"
      },
      "execution_count": null,
      "outputs": []
    },
    {
      "cell_type": "code",
      "source": [
        "# Crear la lista en el formato deseado\n",
        "lista_resultados = [fecha] + [f'{nombre} ({nombres_dict[nombre]})' for nombre in nombres_ordenados]\n",
        "\n",
        "print(lista_resultados)"
      ],
      "metadata": {
        "id": "Vmhhy4iq4ttl"
      },
      "execution_count": null,
      "outputs": []
    },
    {
      "cell_type": "markdown",
      "source": [
        "> Año 1998"
      ],
      "metadata": {
        "id": "OfcTRL065AX8"
      }
    },
    {
      "cell_type": "code",
      "source": [
        "primer = ('/content/Proyecto-1/data/baby1998.html')\n",
        "file = open(primer)\n",
        "text = file.read()\n",
        "\n",
        "# Extraer el año\n",
        "fecha = re.findall('Popularity in (\\d+)</h3>', text)\n",
        "\n",
        "fecha"
      ],
      "metadata": {
        "id": "hxxRB1_15ET9"
      },
      "execution_count": null,
      "outputs": []
    },
    {
      "cell_type": "code",
      "source": [
        "# Estrater nombres de niños y niñas\n",
        "match = re.findall ('<td>(.+)</td><td>(.+)</td><td>(.+)</td>', text)\n",
        "\n",
        "match"
      ],
      "metadata": {
        "id": "ohWNMczs5G1j"
      },
      "execution_count": null,
      "outputs": []
    },
    {
      "cell_type": "code",
      "source": [
        "# Crear diccionario con nombres individuales y su ranking\n",
        "nombres_dict = {}\n",
        "\n",
        "for ranking, nombre_masculino, nombre_femenino in match:\n",
        "    ranking = int(ranking)\n",
        "    nombres_dict.setdefault(nombre_masculino, ranking)\n",
        "    nombres_dict.setdefault(nombre_femenino, ranking)\n",
        "\n",
        "for ranking, nombre in nombres_dict.items():\n",
        "    print(f'{ranking}: {nombre}')\n"
      ],
      "metadata": {
        "id": "puV2OVaE5KXS"
      },
      "execution_count": null,
      "outputs": []
    },
    {
      "cell_type": "code",
      "source": [
        "# Crear una lista de nombres ordenados alfabéticamente\n",
        "nombres_ordenados = sorted(nombres_dict.keys())\n",
        "\n",
        "for nombre in nombres_ordenados:\n",
        "  print(nombre)"
      ],
      "metadata": {
        "id": "IjxP0fDn5PO4"
      },
      "execution_count": null,
      "outputs": []
    },
    {
      "cell_type": "code",
      "source": [
        "# Crear la lista en el formato deseado\n",
        "lista_resultados = [fecha] + [f'{nombre} ({nombres_dict[nombre]})' for nombre in nombres_ordenados]\n",
        "\n",
        "print(lista_resultados)"
      ],
      "metadata": {
        "id": "pp_9UIUj5QDe"
      },
      "execution_count": null,
      "outputs": []
    },
    {
      "cell_type": "markdown",
      "source": [
        "> Año 2000"
      ],
      "metadata": {
        "id": "V8jZFpu05s5g"
      }
    },
    {
      "cell_type": "code",
      "source": [
        "primer = ('/content/Proyecto-1/data/baby2000.html')\n",
        "file = open(primer)\n",
        "text = file.read()\n",
        "\n",
        "# Extraer el año\n",
        "fecha = re.findall('Popularity in (\\d+)</h3>', text)\n",
        "\n",
        "fecha"
      ],
      "metadata": {
        "id": "TESOFDmC51qM"
      },
      "execution_count": null,
      "outputs": []
    },
    {
      "cell_type": "code",
      "source": [
        "# Estrater nombres de niños y niñas\n",
        "match = re.findall ('<td>(.+)</td><td>(.+)</td><td>(.+)</td>', text)\n",
        "\n",
        "match"
      ],
      "metadata": {
        "id": "ex5U_XDX58n2"
      },
      "execution_count": null,
      "outputs": []
    },
    {
      "cell_type": "code",
      "source": [
        "# Crear diccionario con nombres individuales y su ranking\n",
        "nombres_dict = {}\n",
        "\n",
        "for ranking, nombre_masculino, nombre_femenino in match:\n",
        "    ranking = int(ranking)\n",
        "    nombres_dict.setdefault(nombre_masculino, ranking)\n",
        "    nombres_dict.setdefault(nombre_femenino, ranking)\n",
        "\n",
        "for ranking, nombre in nombres_dict.items():\n",
        "    print(f'{ranking}: {nombre}')"
      ],
      "metadata": {
        "id": "Qa9XsTeu5_LD"
      },
      "execution_count": null,
      "outputs": []
    },
    {
      "cell_type": "code",
      "source": [
        "# Crear una lista de nombres ordenados alfabéticamente\n",
        "nombres_ordenados = sorted(nombres_dict.keys())\n",
        "\n",
        "for nombre in nombres_ordenados:\n",
        "  print(nombre)"
      ],
      "metadata": {
        "id": "lrfXwCmc6Btm"
      },
      "execution_count": null,
      "outputs": []
    },
    {
      "cell_type": "code",
      "source": [
        "# Crear la lista en el formato deseado\n",
        "lista_resultados = [fecha] + [f'{nombre} ({nombres_dict[nombre]})' for nombre in nombres_ordenados]\n",
        "\n",
        "print(lista_resultados)"
      ],
      "metadata": {
        "id": "D7QwYfSG6E6G"
      },
      "execution_count": null,
      "outputs": []
    },
    {
      "cell_type": "markdown",
      "source": [
        "> Año 2002"
      ],
      "metadata": {
        "id": "kaW4sbCi6PTn"
      }
    },
    {
      "cell_type": "code",
      "source": [
        "primer = ('/content/Proyecto-1/data/baby2002.html')\n",
        "file = open(primer)\n",
        "text = file.read()\n",
        "\n",
        "# Extraer el año\n",
        "fecha = re.findall('Popularity in (\\d+)</h3>', text)\n",
        "\n",
        "fecha"
      ],
      "metadata": {
        "id": "HmaWZJ_J6TsB"
      },
      "execution_count": null,
      "outputs": []
    },
    {
      "cell_type": "code",
      "source": [
        "# Estrater nombres de niños y niñas\n",
        "match = re.findall ('<td>(.+)</td><td>(.+)</td><td>(.+)</td>', text)\n",
        "\n",
        "match"
      ],
      "metadata": {
        "id": "rTHWJZ-Q6WVI"
      },
      "execution_count": null,
      "outputs": []
    },
    {
      "cell_type": "code",
      "source": [
        "# Crear diccionario con nombres individuales y su ranking\n",
        "nombres_dict = {}\n",
        "\n",
        "for ranking, nombre_masculino, nombre_femenino in match:\n",
        "    ranking = int(ranking)\n",
        "    nombres_dict.setdefault(nombre_masculino, ranking)\n",
        "    nombres_dict.setdefault(nombre_femenino, ranking)\n",
        "\n",
        "for ranking, nombre in nombres_dict.items():\n",
        "    print(f'{ranking}: {nombre}')"
      ],
      "metadata": {
        "id": "5JrNYism6aSF"
      },
      "execution_count": null,
      "outputs": []
    },
    {
      "cell_type": "code",
      "source": [
        "# Crear una lista de nombres ordenados alfabéticamente\n",
        "nombres_ordenados = sorted(nombres_dict.keys())\n",
        "\n",
        "for nombre in nombres_ordenados:\n",
        "  print(nombre)"
      ],
      "metadata": {
        "id": "9YZ3OA9e6bvE"
      },
      "execution_count": null,
      "outputs": []
    },
    {
      "cell_type": "code",
      "source": [
        "# Crear la lista en el formato deseado\n",
        "lista_resultados = [fecha] + [f'{nombre} ({nombres_dict[nombre]})' for nombre in nombres_ordenados]\n",
        "\n",
        "print(lista_resultados)"
      ],
      "metadata": {
        "id": "KBVdL3Sp6eby"
      },
      "execution_count": null,
      "outputs": []
    },
    {
      "cell_type": "markdown",
      "source": [
        "> Año 2004"
      ],
      "metadata": {
        "id": "qY7N1zEK6sgj"
      }
    },
    {
      "cell_type": "code",
      "source": [
        "primer = ('/content/Proyecto-1/data/baby2004.html')\n",
        "file = open(primer)\n",
        "text = file.read()\n",
        "\n",
        "# Extraer el año\n",
        "fecha = re.findall('Popularity in (\\d+)</h3>', text)\n",
        "\n",
        "fecha"
      ],
      "metadata": {
        "id": "pmpW8Ac86wSM"
      },
      "execution_count": null,
      "outputs": []
    },
    {
      "cell_type": "code",
      "source": [
        "# Estrater nombres de niños y niñas\n",
        "match = re.findall ('<td>(.+)</td><td>(.+)</td><td>(.+)</td>', text)\n",
        "\n",
        "match"
      ],
      "metadata": {
        "id": "JnXGsNqx6ytr"
      },
      "execution_count": null,
      "outputs": []
    },
    {
      "cell_type": "code",
      "source": [
        "# Crear diccionario con nombres individuales y su ranking\n",
        "nombres_dict = {}\n",
        "\n",
        "for ranking, nombre_masculino, nombre_femenino in match:\n",
        "    ranking = int(ranking)\n",
        "    nombres_dict.setdefault(nombre_masculino, ranking)\n",
        "    nombres_dict.setdefault(nombre_femenino, ranking)\n",
        "\n",
        "for ranking, nombre in nombres_dict.items():\n",
        "    print(f'{ranking}: {nombre}')"
      ],
      "metadata": {
        "id": "7fUaChw660fP"
      },
      "execution_count": null,
      "outputs": []
    },
    {
      "cell_type": "code",
      "source": [
        "# Crear una lista de nombres ordenados alfabéticamente\n",
        "nombres_ordenados = sorted(nombres_dict.keys())\n",
        "\n",
        "for nombre in nombres_ordenados:\n",
        "  print(nombre)"
      ],
      "metadata": {
        "id": "k2c-YOqS63Aa"
      },
      "execution_count": null,
      "outputs": []
    },
    {
      "cell_type": "code",
      "source": [
        "# Crear la lista en el formato deseado\n",
        "lista_resultados = [fecha] + [f'{nombre} ({nombres_dict[nombre]})' for nombre in nombres_ordenados]\n",
        "\n",
        "print(lista_resultados)"
      ],
      "metadata": {
        "id": "H-He1qwP65LO"
      },
      "execution_count": null,
      "outputs": []
    },
    {
      "cell_type": "markdown",
      "source": [
        "> Año 2006"
      ],
      "metadata": {
        "id": "WQ7xJDR-7MbW"
      }
    },
    {
      "cell_type": "code",
      "source": [
        "primer = ('/content/Proyecto-1/data/baby2006.html')\n",
        "file = open(primer)\n",
        "text = file.read()\n",
        "\n",
        "# Extraer el año\n",
        "fecha = re.findall('Popularity in (\\d+)</h3>', text)\n",
        "\n",
        "fecha"
      ],
      "metadata": {
        "id": "6nrYC14o7Plk"
      },
      "execution_count": null,
      "outputs": []
    },
    {
      "cell_type": "code",
      "source": [
        "# Estrater nombres de niños y niñas\n",
        "match = re.findall ('<td>(.+)</td><td>(.+)</td><td>(.+)</td>', text)\n",
        "\n",
        "match"
      ],
      "metadata": {
        "id": "JGFfnxsA7T6-"
      },
      "execution_count": null,
      "outputs": []
    },
    {
      "cell_type": "code",
      "source": [
        "# Crear diccionario con nombres individuales y su ranking\n",
        "nombres_dict = {}\n",
        "\n",
        "for ranking, nombre_masculino, nombre_femenino in match:\n",
        "    ranking = int(ranking)\n",
        "    nombres_dict.setdefault(nombre_masculino, ranking)\n",
        "    nombres_dict.setdefault(nombre_femenino, ranking)\n",
        "\n",
        "for ranking, nombre in nombres_dict.items():\n",
        "    print(f'{ranking}: {nombre}')"
      ],
      "metadata": {
        "id": "Btlpjvrs7Vxp"
      },
      "execution_count": null,
      "outputs": []
    },
    {
      "cell_type": "code",
      "source": [
        "# Crear una lista de nombres ordenados alfabéticamente\n",
        "nombres_ordenados = sorted(nombres_dict.keys())\n",
        "\n",
        "for nombre in nombres_ordenados:\n",
        "  print(nombre)"
      ],
      "metadata": {
        "id": "95p7BSqL7ZHs"
      },
      "execution_count": null,
      "outputs": []
    },
    {
      "cell_type": "code",
      "source": [
        "# Crear la lista en el formato deseado\n",
        "lista_resultados = [fecha] + [f'{nombre} ({nombres_dict[nombre]})' for nombre in nombres_ordenados]\n",
        "\n",
        "print(lista_resultados)"
      ],
      "metadata": {
        "id": "fvsWVXPE7dq8"
      },
      "execution_count": null,
      "outputs": []
    },
    {
      "cell_type": "markdown",
      "source": [
        "> Año 2008"
      ],
      "metadata": {
        "id": "my6xfKH07tGD"
      }
    },
    {
      "cell_type": "code",
      "source": [
        "primer = ('/content/Proyecto-1/data/baby2008.html')\n",
        "file = open(primer)\n",
        "text = file.read()\n",
        "\n",
        "# Extraer el año\n",
        "fecha = re.findall('Popularity in (\\d+)</h2></caption>', text)\n",
        "\n",
        "fecha"
      ],
      "metadata": {
        "id": "eFCyTq9B7u37"
      },
      "execution_count": null,
      "outputs": []
    },
    {
      "cell_type": "code",
      "source": [
        "# Estrater nombres de niños y niñas\n",
        "match = re.findall ('<td>(.+)</td><td>(.+)</td><td>(.+)</td>', text)\n",
        "\n",
        "match"
      ],
      "metadata": {
        "id": "0UvcTkFN7yQ_"
      },
      "execution_count": null,
      "outputs": []
    },
    {
      "cell_type": "code",
      "source": [
        "# Crear diccionario con nombres individuales y su ranking\n",
        "nombres_dict = {}\n",
        "\n",
        "for ranking, nombre_masculino, nombre_femenino in match:\n",
        "    ranking = int(ranking)\n",
        "    nombres_dict.setdefault(nombre_masculino, ranking)\n",
        "    nombres_dict.setdefault(nombre_femenino, ranking)\n",
        "\n",
        "for ranking, nombre in nombres_dict.items():\n",
        "    print(f'{ranking}: {nombre}')"
      ],
      "metadata": {
        "id": "ZY98M9T570N0"
      },
      "execution_count": null,
      "outputs": []
    },
    {
      "cell_type": "code",
      "source": [
        "# Crear una lista de nombres ordenados alfabéticamente\n",
        "nombres_ordenados = sorted(nombres_dict.keys())\n",
        "\n",
        "for nombre in nombres_ordenados:\n",
        "  print(nombre)"
      ],
      "metadata": {
        "id": "eHnlufut73AL"
      },
      "execution_count": null,
      "outputs": []
    },
    {
      "cell_type": "code",
      "source": [
        "# Crear la lista en el formato deseado\n",
        "lista_resultados = [fecha] + [f'{nombre} ({nombres_dict[nombre]})' for nombre in nombres_ordenados]\n",
        "\n",
        "print(lista_resultados)"
      ],
      "metadata": {
        "id": "T3vG5Vu875bJ"
      },
      "execution_count": null,
      "outputs": []
    }
  ]
}